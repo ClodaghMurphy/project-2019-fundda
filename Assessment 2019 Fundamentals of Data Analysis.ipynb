{
 "cells": [
  {
   "cell_type": "markdown",
   "metadata": {},
   "source": [
    "# <span style=\"text-decoration: underline\">Assessment 2019 Fundamentals of Data Analysis</span>\n",
    "\n",
    "## This assessment concerns the well-known tips dataset and the Python packages seaborn and jupyter.\n",
    "\n",
    "1. Create a jupyter notebook that uses descriptive statistics and plots to describe the tips dataset.\n",
    "1. To the above jupyter notebook add a section that discusses and analyses whether there is a relationship \n",
    "between the total bill and tip amount.\n",
    "1. Using the same notebook, analyse the relationship between the\n",
    "variables within the dataset. You are free to interpret this as you wish — for\n",
    "example, you may analyse all pairs of variables, or select a subset and analyse\n",
    "those.\n",
    "***"
   ]
  },
  {
   "cell_type": "markdown",
   "metadata": {},
   "source": [
    "# Introduction\n",
    "\n",
    "What are tips?\n",
    "A gratuity (also called a tip) is a sum of money customarily given by a client or \n",
    "customer to certain service sector workers for the service they have performed, in addition to the basic price of the service\n",
    "\n",
    "\n",
    "According to https://www.tripadvisor.ie \n",
    "There is not a strong tipping culture in Ireland but many locals and visitors tend to tip for certain services, \n",
    "in particular restaurants, taxis and personal services (e.g. hairdressing). \n",
    "If you want to tip and are in doubt about how much, think 10%. All tips are at your discretion!\n",
    "\n",
    "https://www.irishtimes.com/life-and-style/food-and-drink/before-you-leave-a-tip-in-an-irish-restaurant-read-this-1.3857096\n",
    "In April of this year,an Irish Times article explored the phenomenon of business owners taking the \"tips\" left by customers\n",
    "and using these funds to pay wages, rather than distributing them amongst staff as a bonus.\n",
    "\n",
    "***\n"
   ]
  },
  {
   "cell_type": "markdown",
   "metadata": {},
   "source": [
    "# 1. Create a jupyter notebook that uses descriptive statistics and plots to describe the tips dataset."
   ]
  },
  {
   "cell_type": "markdown",
   "metadata": {},
   "source": [
    "# 2. To the above jupyter notebook add a section that discusses and analyses whether there is a relationship between the total bill and tip amount."
   ]
  },
  {
   "cell_type": "markdown",
   "metadata": {},
   "source": [
    "# 3. Using the same notebook, analyse the relationship between the variables within the dataset. You are free to interpret this as you wish — for example, you may analyse all pairs of variables, or select a subset and analyse those.\n"
   ]
  },
  {
   "cell_type": "markdown",
   "metadata": {},
   "source": [
    "# Conclusion\n",
    "\n",
    "***"
   ]
  },
  {
   "cell_type": "code",
   "execution_count": null,
   "metadata": {},
   "outputs": [],
   "source": []
  }
 ],
 "metadata": {
  "kernelspec": {
   "display_name": "Python 3",
   "language": "python",
   "name": "python3"
  },
  "language_info": {
   "codemirror_mode": {
    "name": "ipython",
    "version": 3
   },
   "file_extension": ".py",
   "mimetype": "text/x-python",
   "name": "python",
   "nbconvert_exporter": "python",
   "pygments_lexer": "ipython3",
   "version": "3.7.1"
  }
 },
 "nbformat": 4,
 "nbformat_minor": 2
}
