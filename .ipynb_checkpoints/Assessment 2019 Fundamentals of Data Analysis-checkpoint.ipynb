{
 "cells": [
  {
   "cell_type": "markdown",
   "metadata": {},
   "source": [
    "# <span style=\"text-decoration: underline\">Assessment 2019 Fundamentals of Data Analysis</span>\n",
    "\n",
    "## This assessment concerns the well-known tips dataset and the Python packages seaborn and jupyter.\n",
    "\n",
    "1. Create a jupyter notebook that uses descriptive statistics and plots to describe the tips dataset.\n",
    "1. To the above jupyter notebook add a section that discusses and analyses whether there is a relationship \n",
    "between the total bill and tip amount.\n",
    "1. Using the same notebook, analyse the relationship between the\n",
    "variables within the dataset. You are free to interpret this as you wish — for\n",
    "example, you may analyse all pairs of variables, or select a subset and analyse\n",
    "those.\n",
    "***"
   ]
  },
  {
   "cell_type": "code",
   "execution_count": null,
   "metadata": {},
   "outputs": [],
   "source": []
  },
  {
   "cell_type": "markdown",
   "metadata": {},
   "source": [
    "# <span style=\"text-decoration: underline\">Introduction</span>\n",
    "What are tips?\n",
    "A sum of money customarily given by a client or customer to certain service sector workers for the service they have performed, in addition to the basic price of the service.\n",
    "\n",
    "\n",
    "According to https://www.tripadvisor.ie \n",
    ">There is not a strong tipping culture in Ireland but many locals and visitors tend to tip for certain services, \n",
    ">in particular restaurants, taxis and personal services (e.g. hairdressing). \n",
    ">If you want to tip and are in doubt about how much, think 10%. All tips are at your discretion!\n",
    "\n",
    "However, in the US where this dataset was collected tips form a substantial amount of an employees' income due to the nominal hourly rate paid. This data can be useful to managers or the staff themselves in order to ensure that there is equity in the receipt of tips when they are not gathered and shared out pro rata.  \n",
    "\n",
    "An important point to bear in mind for this assessment is to view the data set and subsequent analyses with fresh eyes.  Forget your assumptions about tipping culture and focus only on what can be proven with data.\n",
    "\n",
    "[An introduction to seaborn](https://seaborn.pydata.org/introduction.html) states that the tips dataset is\n",
    ">very boring but quite useful for demonstration.\n",
    "\n",
    "So consider yourself warned!\n",
    "The alleged dullness of the data is, however, more than made up for in the beautiful plots that can  be created using the seaborn library.\n",
    "***\n"
   ]
  },
  {
   "cell_type": "markdown",
   "metadata": {},
   "source": [
    "# <span style=\"text-decoration: underline\">1. Create a jupyter notebook that uses descriptive statistics and plots to describe the tips dataset.</span>"
   ]
  },
  {
   "cell_type": "markdown",
   "metadata": {},
   "source": [
    "## Descriptive Statistics"
   ]
  },
  {
   "cell_type": "markdown",
   "metadata": {},
   "source": [
    "Descriptive statistics describe data. \n",
    "It’s a way to summarise and organise collected data into a manageable format that is easy to understand.<br>"
   ]
  },
  {
   "cell_type": "code",
   "execution_count": 9,
   "metadata": {},
   "outputs": [],
   "source": [
    "#To begin,import the required python packages, each is given an abbreviation in order to save keystrokes.\n",
    "import numpy as np\n",
    "import pandas as pd\n",
    "import matplotlib.pyplot as plt\n",
    "#Mandatory dependencies for seaborn are: NumPy, Matplotlib, Pandas\n",
    "import seaborn as sns"
   ]
  },
  {
   "cell_type": "code",
   "execution_count": 10,
   "metadata": {},
   "outputs": [
    {
     "data": {
      "text/plain": [
       "['anscombe',\n",
       " 'attention',\n",
       " 'brain_networks',\n",
       " 'car_crashes',\n",
       " 'diamonds',\n",
       " 'dots',\n",
       " 'exercise',\n",
       " 'flights',\n",
       " 'fmri',\n",
       " 'gammas',\n",
       " 'iris',\n",
       " 'mpg',\n",
       " 'planets',\n",
       " 'tips',\n",
       " 'titanic']"
      ]
     },
     "execution_count": 10,
     "metadata": {},
     "output_type": "execute_result"
    }
   ],
   "source": [
    "#The tips dataset is built into seaborn\n",
    "#View all available datasets in seaborn using this command\n",
    "sns.get_dataset_names()"
   ]
  },
  {
   "cell_type": "markdown",
   "metadata": {},
   "source": [
    "Even if you don't know anything about a particular dataset there are a few simple commands to produce an overview.<br>\n",
    "Immediately it can be seen that 244 rows and 7 columns categories in the dataset."
   ]
  },
  {
   "cell_type": "code",
   "execution_count": 13,
   "metadata": {},
   "outputs": [
    {
     "name": "stdout",
     "output_type": "stream",
     "text": [
      "<class 'pandas.core.frame.DataFrame'>\n",
      "RangeIndex: 244 entries, 0 to 243\n",
      "Data columns (total 7 columns):\n",
      "total_bill    244 non-null float64\n",
      "tip           244 non-null float64\n",
      "sex           244 non-null category\n",
      "smoker        244 non-null category\n",
      "day           244 non-null category\n",
      "time          244 non-null category\n",
      "size          244 non-null int64\n",
      "dtypes: category(4), float64(2), int64(1)\n",
      "memory usage: 7.2 KB\n"
     ]
    }
   ],
   "source": [
    "tips = sns.load_dataset(\"tips\")\n",
    "#code verbatim from https://www.kaggle.com/ssouhassou/data-viz-a-modest-essay-on-the-dataset-tips\n",
    "tips.info()"
   ]
  },
  {
   "cell_type": "code",
   "execution_count": null,
   "metadata": {},
   "outputs": [],
   "source": [
    "df=tips\n",
    "df.shape\n",
    "#putting the column label into square brackets produces output of a list from that column in data frame format"
   ]
  },
  {
   "cell_type": "code",
   "execution_count": 15,
   "metadata": {},
   "outputs": [
    {
     "data": {
      "text/html": [
       "<div>\n",
       "<style scoped>\n",
       "    .dataframe tbody tr th:only-of-type {\n",
       "        vertical-align: middle;\n",
       "    }\n",
       "\n",
       "    .dataframe tbody tr th {\n",
       "        vertical-align: top;\n",
       "    }\n",
       "\n",
       "    .dataframe thead th {\n",
       "        text-align: right;\n",
       "    }\n",
       "</style>\n",
       "<table border=\"1\" class=\"dataframe\">\n",
       "  <thead>\n",
       "    <tr style=\"text-align: right;\">\n",
       "      <th></th>\n",
       "      <th>total_bill</th>\n",
       "      <th>tip</th>\n",
       "      <th>size</th>\n",
       "    </tr>\n",
       "  </thead>\n",
       "  <tbody>\n",
       "    <tr>\n",
       "      <th>count</th>\n",
       "      <td>244.000000</td>\n",
       "      <td>244.000000</td>\n",
       "      <td>244.000000</td>\n",
       "    </tr>\n",
       "    <tr>\n",
       "      <th>mean</th>\n",
       "      <td>19.785943</td>\n",
       "      <td>2.998279</td>\n",
       "      <td>2.569672</td>\n",
       "    </tr>\n",
       "    <tr>\n",
       "      <th>std</th>\n",
       "      <td>8.902412</td>\n",
       "      <td>1.383638</td>\n",
       "      <td>0.951100</td>\n",
       "    </tr>\n",
       "    <tr>\n",
       "      <th>min</th>\n",
       "      <td>3.070000</td>\n",
       "      <td>1.000000</td>\n",
       "      <td>1.000000</td>\n",
       "    </tr>\n",
       "    <tr>\n",
       "      <th>25%</th>\n",
       "      <td>13.347500</td>\n",
       "      <td>2.000000</td>\n",
       "      <td>2.000000</td>\n",
       "    </tr>\n",
       "    <tr>\n",
       "      <th>50%</th>\n",
       "      <td>17.795000</td>\n",
       "      <td>2.900000</td>\n",
       "      <td>2.000000</td>\n",
       "    </tr>\n",
       "    <tr>\n",
       "      <th>75%</th>\n",
       "      <td>24.127500</td>\n",
       "      <td>3.562500</td>\n",
       "      <td>3.000000</td>\n",
       "    </tr>\n",
       "    <tr>\n",
       "      <th>max</th>\n",
       "      <td>50.810000</td>\n",
       "      <td>10.000000</td>\n",
       "      <td>6.000000</td>\n",
       "    </tr>\n",
       "  </tbody>\n",
       "</table>\n",
       "</div>"
      ],
      "text/plain": [
       "       total_bill         tip        size\n",
       "count  244.000000  244.000000  244.000000\n",
       "mean    19.785943    2.998279    2.569672\n",
       "std      8.902412    1.383638    0.951100\n",
       "min      3.070000    1.000000    1.000000\n",
       "25%     13.347500    2.000000    2.000000\n",
       "50%     17.795000    2.900000    2.000000\n",
       "75%     24.127500    3.562500    3.000000\n",
       "max     50.810000   10.000000    6.000000"
      ]
     },
     "execution_count": 15,
     "metadata": {},
     "output_type": "execute_result"
    }
   ],
   "source": [
    "tips.describe()\n",
    "#if parentheses ()are not used, all columns will display but no useful summary statistics!\n",
    "#According to pandas 0.25.1 documentation:\n",
    "#For numeric data, the result’s index will include count, mean, std, min, max as well as lower, 50 and upper percentiles. \n",
    "#By default the lower percentile is 25 and the upper percentile is 75. The 50 percentile is the same as the median."
   ]
  },
  {
   "cell_type": "code",
   "execution_count": null,
   "metadata": {},
   "outputs": [],
   "source": [
    "#The \"tips\" dataset is a commonly used one that is built into the seaborn Python data visualization library\n",
    "tips = sns.load_dataset(\"tips\")\n",
    "#No requirement to type \"print\" - call it to be printed with just the name of the dataset.\n",
    "tips"
   ]
  },
  {
   "cell_type": "code",
   "execution_count": null,
   "metadata": {},
   "outputs": [],
   "source": [
    "tips.head()\n",
    "#The head() command returns 5 as a default when no argument is entered"
   ]
  },
  {
   "cell_type": "code",
   "execution_count": null,
   "metadata": {},
   "outputs": [],
   "source": [
    "tips.tail(3)\n",
    "#this time 3 is passed into the argument, otherwise 5 outputs would print"
   ]
  },
  {
   "cell_type": "markdown",
   "metadata": {},
   "source": [
    "Checking the \"head\" and \"tail\" entries on the dataset is a useful exercise to quickly<br>\n",
    "check the integrity of the dataset, particularly if it is a large one or if it may contain <br>\n",
    "non-english characters because vowel accents may cause the data to be rendered incorrectly. <br>"
   ]
  },
  {
   "cell_type": "markdown",
   "metadata": {},
   "source": [
    "## Other pandas commands to manipulate the data:\n",
    "## df[ ] , .loc , .iloc, .at and an introduction to indexing"
   ]
  },
  {
   "cell_type": "code",
   "execution_count": 17,
   "metadata": {},
   "outputs": [
    {
     "data": {
      "text/html": [
       "<div>\n",
       "<style scoped>\n",
       "    .dataframe tbody tr th:only-of-type {\n",
       "        vertical-align: middle;\n",
       "    }\n",
       "\n",
       "    .dataframe tbody tr th {\n",
       "        vertical-align: top;\n",
       "    }\n",
       "\n",
       "    .dataframe thead th {\n",
       "        text-align: right;\n",
       "    }\n",
       "</style>\n",
       "<table border=\"1\" class=\"dataframe\">\n",
       "  <thead>\n",
       "    <tr style=\"text-align: right;\">\n",
       "      <th></th>\n",
       "      <th>tip</th>\n",
       "      <th>day</th>\n",
       "    </tr>\n",
       "  </thead>\n",
       "  <tbody>\n",
       "    <tr>\n",
       "      <th>0</th>\n",
       "      <td>1.01</td>\n",
       "      <td>Sun</td>\n",
       "    </tr>\n",
       "    <tr>\n",
       "      <th>1</th>\n",
       "      <td>1.66</td>\n",
       "      <td>Sun</td>\n",
       "    </tr>\n",
       "    <tr>\n",
       "      <th>2</th>\n",
       "      <td>3.50</td>\n",
       "      <td>Sun</td>\n",
       "    </tr>\n",
       "    <tr>\n",
       "      <th>3</th>\n",
       "      <td>3.31</td>\n",
       "      <td>Sun</td>\n",
       "    </tr>\n",
       "    <tr>\n",
       "      <th>4</th>\n",
       "      <td>3.61</td>\n",
       "      <td>Sun</td>\n",
       "    </tr>\n",
       "    <tr>\n",
       "      <th>5</th>\n",
       "      <td>4.71</td>\n",
       "      <td>Sun</td>\n",
       "    </tr>\n",
       "    <tr>\n",
       "      <th>6</th>\n",
       "      <td>2.00</td>\n",
       "      <td>Sun</td>\n",
       "    </tr>\n",
       "    <tr>\n",
       "      <th>7</th>\n",
       "      <td>3.12</td>\n",
       "      <td>Sun</td>\n",
       "    </tr>\n",
       "    <tr>\n",
       "      <th>8</th>\n",
       "      <td>1.96</td>\n",
       "      <td>Sun</td>\n",
       "    </tr>\n",
       "    <tr>\n",
       "      <th>9</th>\n",
       "      <td>3.23</td>\n",
       "      <td>Sun</td>\n",
       "    </tr>\n",
       "    <tr>\n",
       "      <th>10</th>\n",
       "      <td>1.71</td>\n",
       "      <td>Sun</td>\n",
       "    </tr>\n",
       "    <tr>\n",
       "      <th>11</th>\n",
       "      <td>5.00</td>\n",
       "      <td>Sun</td>\n",
       "    </tr>\n",
       "    <tr>\n",
       "      <th>12</th>\n",
       "      <td>1.57</td>\n",
       "      <td>Sun</td>\n",
       "    </tr>\n",
       "    <tr>\n",
       "      <th>13</th>\n",
       "      <td>3.00</td>\n",
       "      <td>Sun</td>\n",
       "    </tr>\n",
       "    <tr>\n",
       "      <th>14</th>\n",
       "      <td>3.02</td>\n",
       "      <td>Sun</td>\n",
       "    </tr>\n",
       "    <tr>\n",
       "      <th>15</th>\n",
       "      <td>3.92</td>\n",
       "      <td>Sun</td>\n",
       "    </tr>\n",
       "    <tr>\n",
       "      <th>16</th>\n",
       "      <td>1.67</td>\n",
       "      <td>Sun</td>\n",
       "    </tr>\n",
       "    <tr>\n",
       "      <th>17</th>\n",
       "      <td>3.71</td>\n",
       "      <td>Sun</td>\n",
       "    </tr>\n",
       "    <tr>\n",
       "      <th>18</th>\n",
       "      <td>3.50</td>\n",
       "      <td>Sun</td>\n",
       "    </tr>\n",
       "    <tr>\n",
       "      <th>19</th>\n",
       "      <td>3.35</td>\n",
       "      <td>Sat</td>\n",
       "    </tr>\n",
       "    <tr>\n",
       "      <th>20</th>\n",
       "      <td>4.08</td>\n",
       "      <td>Sat</td>\n",
       "    </tr>\n",
       "    <tr>\n",
       "      <th>21</th>\n",
       "      <td>2.75</td>\n",
       "      <td>Sat</td>\n",
       "    </tr>\n",
       "    <tr>\n",
       "      <th>22</th>\n",
       "      <td>2.23</td>\n",
       "      <td>Sat</td>\n",
       "    </tr>\n",
       "    <tr>\n",
       "      <th>23</th>\n",
       "      <td>7.58</td>\n",
       "      <td>Sat</td>\n",
       "    </tr>\n",
       "    <tr>\n",
       "      <th>24</th>\n",
       "      <td>3.18</td>\n",
       "      <td>Sat</td>\n",
       "    </tr>\n",
       "    <tr>\n",
       "      <th>25</th>\n",
       "      <td>2.34</td>\n",
       "      <td>Sat</td>\n",
       "    </tr>\n",
       "    <tr>\n",
       "      <th>26</th>\n",
       "      <td>2.00</td>\n",
       "      <td>Sat</td>\n",
       "    </tr>\n",
       "    <tr>\n",
       "      <th>27</th>\n",
       "      <td>2.00</td>\n",
       "      <td>Sat</td>\n",
       "    </tr>\n",
       "    <tr>\n",
       "      <th>28</th>\n",
       "      <td>4.30</td>\n",
       "      <td>Sat</td>\n",
       "    </tr>\n",
       "    <tr>\n",
       "      <th>29</th>\n",
       "      <td>3.00</td>\n",
       "      <td>Sat</td>\n",
       "    </tr>\n",
       "    <tr>\n",
       "      <th>...</th>\n",
       "      <td>...</td>\n",
       "      <td>...</td>\n",
       "    </tr>\n",
       "    <tr>\n",
       "      <th>214</th>\n",
       "      <td>6.50</td>\n",
       "      <td>Sat</td>\n",
       "    </tr>\n",
       "    <tr>\n",
       "      <th>215</th>\n",
       "      <td>1.10</td>\n",
       "      <td>Sat</td>\n",
       "    </tr>\n",
       "    <tr>\n",
       "      <th>216</th>\n",
       "      <td>3.00</td>\n",
       "      <td>Sat</td>\n",
       "    </tr>\n",
       "    <tr>\n",
       "      <th>217</th>\n",
       "      <td>1.50</td>\n",
       "      <td>Sat</td>\n",
       "    </tr>\n",
       "    <tr>\n",
       "      <th>218</th>\n",
       "      <td>1.44</td>\n",
       "      <td>Sat</td>\n",
       "    </tr>\n",
       "    <tr>\n",
       "      <th>219</th>\n",
       "      <td>3.09</td>\n",
       "      <td>Sat</td>\n",
       "    </tr>\n",
       "    <tr>\n",
       "      <th>220</th>\n",
       "      <td>2.20</td>\n",
       "      <td>Fri</td>\n",
       "    </tr>\n",
       "    <tr>\n",
       "      <th>221</th>\n",
       "      <td>3.48</td>\n",
       "      <td>Fri</td>\n",
       "    </tr>\n",
       "    <tr>\n",
       "      <th>222</th>\n",
       "      <td>1.92</td>\n",
       "      <td>Fri</td>\n",
       "    </tr>\n",
       "    <tr>\n",
       "      <th>223</th>\n",
       "      <td>3.00</td>\n",
       "      <td>Fri</td>\n",
       "    </tr>\n",
       "    <tr>\n",
       "      <th>224</th>\n",
       "      <td>1.58</td>\n",
       "      <td>Fri</td>\n",
       "    </tr>\n",
       "    <tr>\n",
       "      <th>225</th>\n",
       "      <td>2.50</td>\n",
       "      <td>Fri</td>\n",
       "    </tr>\n",
       "    <tr>\n",
       "      <th>226</th>\n",
       "      <td>2.00</td>\n",
       "      <td>Fri</td>\n",
       "    </tr>\n",
       "    <tr>\n",
       "      <th>227</th>\n",
       "      <td>3.00</td>\n",
       "      <td>Sat</td>\n",
       "    </tr>\n",
       "    <tr>\n",
       "      <th>228</th>\n",
       "      <td>2.72</td>\n",
       "      <td>Sat</td>\n",
       "    </tr>\n",
       "    <tr>\n",
       "      <th>229</th>\n",
       "      <td>2.88</td>\n",
       "      <td>Sat</td>\n",
       "    </tr>\n",
       "    <tr>\n",
       "      <th>230</th>\n",
       "      <td>2.00</td>\n",
       "      <td>Sat</td>\n",
       "    </tr>\n",
       "    <tr>\n",
       "      <th>231</th>\n",
       "      <td>3.00</td>\n",
       "      <td>Sat</td>\n",
       "    </tr>\n",
       "    <tr>\n",
       "      <th>232</th>\n",
       "      <td>3.39</td>\n",
       "      <td>Sat</td>\n",
       "    </tr>\n",
       "    <tr>\n",
       "      <th>233</th>\n",
       "      <td>1.47</td>\n",
       "      <td>Sat</td>\n",
       "    </tr>\n",
       "    <tr>\n",
       "      <th>234</th>\n",
       "      <td>3.00</td>\n",
       "      <td>Sat</td>\n",
       "    </tr>\n",
       "    <tr>\n",
       "      <th>235</th>\n",
       "      <td>1.25</td>\n",
       "      <td>Sat</td>\n",
       "    </tr>\n",
       "    <tr>\n",
       "      <th>236</th>\n",
       "      <td>1.00</td>\n",
       "      <td>Sat</td>\n",
       "    </tr>\n",
       "    <tr>\n",
       "      <th>237</th>\n",
       "      <td>1.17</td>\n",
       "      <td>Sat</td>\n",
       "    </tr>\n",
       "    <tr>\n",
       "      <th>238</th>\n",
       "      <td>4.67</td>\n",
       "      <td>Sat</td>\n",
       "    </tr>\n",
       "    <tr>\n",
       "      <th>239</th>\n",
       "      <td>5.92</td>\n",
       "      <td>Sat</td>\n",
       "    </tr>\n",
       "    <tr>\n",
       "      <th>240</th>\n",
       "      <td>2.00</td>\n",
       "      <td>Sat</td>\n",
       "    </tr>\n",
       "    <tr>\n",
       "      <th>241</th>\n",
       "      <td>2.00</td>\n",
       "      <td>Sat</td>\n",
       "    </tr>\n",
       "    <tr>\n",
       "      <th>242</th>\n",
       "      <td>1.75</td>\n",
       "      <td>Sat</td>\n",
       "    </tr>\n",
       "    <tr>\n",
       "      <th>243</th>\n",
       "      <td>3.00</td>\n",
       "      <td>Thur</td>\n",
       "    </tr>\n",
       "  </tbody>\n",
       "</table>\n",
       "<p>244 rows × 2 columns</p>\n",
       "</div>"
      ],
      "text/plain": [
       "      tip   day\n",
       "0    1.01   Sun\n",
       "1    1.66   Sun\n",
       "2    3.50   Sun\n",
       "3    3.31   Sun\n",
       "4    3.61   Sun\n",
       "5    4.71   Sun\n",
       "6    2.00   Sun\n",
       "7    3.12   Sun\n",
       "8    1.96   Sun\n",
       "9    3.23   Sun\n",
       "10   1.71   Sun\n",
       "11   5.00   Sun\n",
       "12   1.57   Sun\n",
       "13   3.00   Sun\n",
       "14   3.02   Sun\n",
       "15   3.92   Sun\n",
       "16   1.67   Sun\n",
       "17   3.71   Sun\n",
       "18   3.50   Sun\n",
       "19   3.35   Sat\n",
       "20   4.08   Sat\n",
       "21   2.75   Sat\n",
       "22   2.23   Sat\n",
       "23   7.58   Sat\n",
       "24   3.18   Sat\n",
       "25   2.34   Sat\n",
       "26   2.00   Sat\n",
       "27   2.00   Sat\n",
       "28   4.30   Sat\n",
       "29   3.00   Sat\n",
       "..    ...   ...\n",
       "214  6.50   Sat\n",
       "215  1.10   Sat\n",
       "216  3.00   Sat\n",
       "217  1.50   Sat\n",
       "218  1.44   Sat\n",
       "219  3.09   Sat\n",
       "220  2.20   Fri\n",
       "221  3.48   Fri\n",
       "222  1.92   Fri\n",
       "223  3.00   Fri\n",
       "224  1.58   Fri\n",
       "225  2.50   Fri\n",
       "226  2.00   Fri\n",
       "227  3.00   Sat\n",
       "228  2.72   Sat\n",
       "229  2.88   Sat\n",
       "230  2.00   Sat\n",
       "231  3.00   Sat\n",
       "232  3.39   Sat\n",
       "233  1.47   Sat\n",
       "234  3.00   Sat\n",
       "235  1.25   Sat\n",
       "236  1.00   Sat\n",
       "237  1.17   Sat\n",
       "238  4.67   Sat\n",
       "239  5.92   Sat\n",
       "240  2.00   Sat\n",
       "241  2.00   Sat\n",
       "242  1.75   Sat\n",
       "243  3.00  Thur\n",
       "\n",
       "[244 rows x 2 columns]"
      ]
     },
     "execution_count": 17,
     "metadata": {},
     "output_type": "execute_result"
    }
   ],
   "source": [
    "#this syntax is wrong : df['tip','day']\n",
    "#this syntax [[double square brackets]] is correct\n",
    "df[['tip', 'day']]\n",
    "#the df command produces an indexed data series of just two data columns that were passed into the argument."
   ]
  },
  {
   "cell_type": "code",
   "execution_count": null,
   "metadata": {},
   "outputs": [],
   "source": [
    "#to demonstrate an important concept in pandas - location\n",
    "#this command produces output from row 200 up to but not including 206\n",
    "#pandas associates index with the dataframe and that the index is a part of it\n",
    "#this command relates to the position of the rows by default and does not take the index into account\n",
    "df[0:5]"
   ]
  },
  {
   "cell_type": "code",
   "execution_count": null,
   "metadata": {},
   "outputs": [],
   "source": [
    "#by specifying \".loc\" in this version a different output is received because it is linked directly to the index labelling \n",
    "#instead.\n",
    "df.loc[0:5]"
   ]
  },
  {
   "cell_type": "code",
   "execution_count": null,
   "metadata": {},
   "outputs": [],
   "source": [
    "#by inserting arguments, a sub-selection of data-points in rows 200-205 can be output\n",
    "df[['tip', 'sex']][200:206]"
   ]
  },
  {
   "cell_type": "code",
   "execution_count": null,
   "metadata": {},
   "outputs": [],
   "source": [
    "#a different syntax is required when using .loc\n",
    "df.loc[200:206, ['tip' , 'sex']]"
   ]
  },
  {
   "cell_type": "code",
   "execution_count": null,
   "metadata": {},
   "outputs": [],
   "source": [
    "# .loc and .iloc identify the same data point when an index it entered as an argument\n",
    "df.iloc[204]"
   ]
  },
  {
   "cell_type": "code",
   "execution_count": null,
   "metadata": {},
   "outputs": [],
   "source": [
    "df.loc[204]"
   ]
  },
  {
   "cell_type": "code",
   "execution_count": null,
   "metadata": {},
   "outputs": [],
   "source": [
    "#.at used to access a single value for a row/column label pair.\n",
    "df.at[204, 'day']"
   ]
  },
  {
   "cell_type": "code",
   "execution_count": null,
   "metadata": {},
   "outputs": [],
   "source": [
    "#this command includes a value at either side of a colon to indicate particular records\n",
    "#Using the == symbol, the output will be in Boolean format True/False (just one = will not produce output).\n",
    "df.loc[200:204, 'day'] == 'Sun'"
   ]
  },
  {
   "cell_type": "code",
   "execution_count": null,
   "metadata": {},
   "outputs": [],
   "source": [
    "#this command does not include any values on either side of the colon which indicate all rows are included\n",
    "df.loc[:, 'day'] == 'Sun'"
   ]
  },
  {
   "cell_type": "code",
   "execution_count": null,
   "metadata": {},
   "outputs": [],
   "source": [
    "#this is a useful tool using Boolean values to select item\n",
    "#the command outputs only the results== Sun from the set in the previous cell\n",
    "df.loc[df.loc[:, 'day'] == 'Sun']"
   ]
  },
  {
   "cell_type": "code",
   "execution_count": null,
   "metadata": {},
   "outputs": [],
   "source": [
    "#rename the above output as x\n",
    "x=df.loc[df.loc[:, 'day'] == 'Sun']"
   ]
  },
  {
   "cell_type": "code",
   "execution_count": null,
   "metadata": {},
   "outputs": [],
   "source": [
    "#call for the 190th row\n",
    "#using loc,linked to original index values\n",
    "x.loc [190]"
   ]
  },
  {
   "cell_type": "code",
   "execution_count": null,
   "metadata": {},
   "outputs": [],
   "source": [
    "#to call for what is the 190th row in the above cell use 75 instead\n",
    "#this time using iloc,linked to new position in a dataframe with 76 rows (0-75 in computer counting)\n",
    "x.iloc [75]"
   ]
  },
  {
   "cell_type": "markdown",
   "metadata": {},
   "source": [
    "## Plots to describe the tips dataset"
   ]
  },
  {
   "cell_type": "markdown",
   "metadata": {},
   "source": [
    "Data visualization refers to taking the data and converting it into a more visual form. <br>\n",
    "Instead of viewing numbers on spreadsheets, a picture is produced that represents that information.<br>\n",
    "This is a useful tool for optimal communication of ideas that are backed up with statistics. <br>\n",
    "It is worth bearing in mind that there is no \"best\" way to plot data.  It is best to understand your audience in order to choose the most useful kind of visualisation that will address their interests.<br>"
   ]
  },
  {
   "cell_type": "code",
   "execution_count": null,
   "metadata": {},
   "outputs": [],
   "source": [
    "import seaborn as sns\n",
    "#Plot the iris data set with a pairplot\n",
    "sns.pairplot(df, hue = \"class\")"
   ]
  },
  {
   "cell_type": "code",
   "execution_count": null,
   "metadata": {},
   "outputs": [],
   "source": [
    "import seaborn as sns\n",
    "#Plot the tips data set with a pairplot\n",
    "df=sns.load_dataset(\"tips\")\n",
    "sns.pairplot(df, hue = \"tip\")"
   ]
  },
  {
   "cell_type": "code",
   "execution_count": null,
   "metadata": {},
   "outputs": [],
   "source": []
  },
  {
   "cell_type": "markdown",
   "metadata": {},
   "source": [
    "**Summary of Section 1 Descriptive Statistics and Plots**"
   ]
  },
  {
   "cell_type": "markdown",
   "metadata": {},
   "source": [
    "In this section, I have demonstrated a selection of  pandas and numpy methods that can be used to quickly produce descriptive statistics relating to a dataset.\n",
    "* tips.info()\n",
    "* tips.shape\n",
    "* tips.head()\n",
    "* tips.tail (3)\n",
    "* tips.describe()\n",
    "* df[ ] , .loc , .iloc, .at and an <br>\n",
    "I also briefly discussed indexing.\n",
    "\n",
    "Following on, I gave XX examples using matplotlib and seaborn of introductory plots."
   ]
  },
  {
   "cell_type": "markdown",
   "metadata": {},
   "source": [
    "# 2. To the above jupyter notebook add a section that discusses and analyses whether there is a relationship between the total bill and tip amount."
   ]
  },
  {
   "cell_type": "markdown",
   "metadata": {},
   "source": [
    "In my research for this project, I have carried out many google searches.<br>\n",
    "This has yielded results of many different coding scripts which produce plots but very few offer any insights as <br>\n",
    "what can be learned from the dataset.\n",
    "On his [website](https://amitkushwaha.co.in/data-visualization-part-1.html) Amit Kushwaha provides a tutorial in Data Visualisation using seaborn that references the tips dataset."
   ]
  },
  {
   "cell_type": "code",
   "execution_count": null,
   "metadata": {},
   "outputs": [],
   "source": [
    "print(\"Data Visualisation - relationship between total bill and tip value\")\n",
    "#code verbatim fromhttps://amitkushwaha.co.in/data-visualization-part-1.html\n",
    "tips = sns.load_dataset(\"tips\")\n",
    "#I know from earlier exploration that there are 7 different categories of data: total_bill,tip,sex,smoker,day,time,size\n",
    "#which can be selected and displayed on axes as required\n",
    "#select total_bill and tip to compare\n",
    "sns.relplot(x=\"total_bill\", y=\"tip\", data=tips);\n",
    "\n",
    "#Breakdown of the script:\n",
    "#relplot is short relationship plot, a function that enables plotting on data-aware grids\n",
    "#The scatterplot() is the default kind in relplot() (it can also be forced by setting kind=\"scatter\")\n",
    "#the script identifies the variables to display on x and y axis and where the data originates from"
   ]
  },
  {
   "cell_type": "markdown",
   "metadata": {},
   "source": [
    "**Comment:** \n",
    "The plot above compares tip with total bill.  The visualisation confirms what was set out in an earlier command appearing in this notebook (tips.describe()) i.e.,\n",
    "the datapoints centre around the mean values of just less than \\\\$20 and \\\\$3 tip (roughly 15% tip)\n",
    "There is no **significant** deviation from the standard tip value of 10-16%"
   ]
  },
  {
   "cell_type": "code",
   "execution_count": null,
   "metadata": {},
   "outputs": [],
   "source": [
    "#code verbatim fromhttps://amitkushwaha.co.in/data-visualization-part-1.html\n",
    "print(\"Data Visualisation - relationship between total bill, tip value and smoker status\")\n",
    "sns.relplot(x=\"total_bill\", y=\"tip\", hue=\"smoker\", data=tips);\n",
    "\n",
    "#This script revisits the bill versus tip plot, but adds a third dimension with the inclusion of smoker status\n",
    "#the \"hue\" parameter lets seaborn know the different data points in a particular grouping should be distinguished by colour."
   ]
  },
  {
   "cell_type": "code",
   "execution_count": null,
   "metadata": {},
   "outputs": [],
   "source": [
    "#Plot the relation graph between total bill and tip\n",
    "#code amended from https://amitkushwaha.co.in/data-visualization-part-1.html\n",
    "sns.relplot('total_bill', 'tip', data=tips, kind='line')\n"
   ]
  },
  {
   "cell_type": "markdown",
   "metadata": {},
   "source": [
    "**Comment:** \n",
    "I have included this plot to demonstrate how certain renderings are not suitable<br>\n",
    "for particular data analyses. The above plot with its erratic movement is difficult to understand.  "
   ]
  },
  {
   "cell_type": "code",
   "execution_count": null,
   "metadata": {},
   "outputs": [],
   "source": [
    "#Categorical scatterplots\n",
    "\n",
    "#code amended from https://amitkushwaha.co.in/data-visualization-part-1.html\n",
    "\n",
    "sns.catplot(x=\"total_bill\", y=\"tip\", data=tips)"
   ]
  },
  {
   "cell_type": "markdown",
   "metadata": {},
   "source": [
    "**Comment:** \n",
    "This is another example of a plot that is somewhat unsuited to the data.\n",
    "A catplot (categorial scatterplot) shows the frequencies of categories. There are two many categories of tips (227)<br>\n",
    "to display clearly.\n",
    "If the categories on each axis are switched, the result is much the same."
   ]
  },
  {
   "cell_type": "markdown",
   "metadata": {},
   "source": [
    "***"
   ]
  },
  {
   "cell_type": "markdown",
   "metadata": {},
   "source": [
    "Ranjeet Jain has a well laid out and easy to navigate website on kaggle.com. <br>\n",
    "In addition to clear technical instructions, he offers some interpretation of the plots created as well as a comprehensive<br>\n",
    "overview of the source and importance of the tips dataset.\n",
    "According to Ranjeet:\n",
    ">Restaurant managers need to know which factors matter when they assign tables to food servers. For the sake of staff morale, \n",
    ">they usually want to avoid either the substance or the appearance of \n",
    ">unfair treatment of the servers, for whom tips (at least in restaurants in the United States) \n",
    ">are a major component of pay."
   ]
  },
  {
   "cell_type": "code",
   "execution_count": null,
   "metadata": {},
   "outputs": [],
   "source": [
    "#code verbatim from https://www.kaggle.com/ranjeetjain3/different-types-of-charts\n",
    "sns.jointplot(x = 'total_bill', y = 'tip', data = tips)"
   ]
  },
  {
   "cell_type": "markdown",
   "metadata": {},
   "source": [
    "**Comment:**\n",
    "Jointplot produces a plot of two variables,showing the relationship with a bivariate plot.\n",
    "It includes the individual distributions represented in histogram format to the sides.\n",
    "Ranjeet Jain summarises that this plot illustrates that tips are predominantly in the range from \\\\$1 - \\\\$5.\n",
    "This can be viewed from the concentration of dots in the bottom left hand corner of the plot."
   ]
  },
  {
   "cell_type": "code",
   "execution_count": null,
   "metadata": {},
   "outputs": [],
   "source": [
    "#code verbatim from https://www.kaggle.com/ranjeetjain3/different-types-of-charts\n",
    "sns.jointplot(x = 'total_bill', y = 'tip', data = tips ,kind = 'hex')"
   ]
  },
  {
   "cell_type": "markdown",
   "metadata": {},
   "source": [
    "**Comment:**\n",
    "Ranjeet Jain describes this as \"another clean visualization of viewing the graph\" where the darker region indicates a greater\n",
    "number of data points present.  \n",
    "Personally, I find this hex representation easier to interpret than a scatterplot. "
   ]
  },
  {
   "cell_type": "code",
   "execution_count": null,
   "metadata": {},
   "outputs": [],
   "source": [
    "#code verbatim from https://www.kaggle.com/ranjeetjain3/different-types-of-charts\n",
    "sns.jointplot(x = 'total_bill', y = 'tip', data = tips ,kind = 'reg')"
   ]
  },
  {
   "cell_type": "markdown",
   "metadata": {},
   "source": [
    "**Comment:**\n",
    "The inclusion of the code: kind = 'reg' incorporates a simple regression line which Ranjeet Jain states shows that the tip value increases based on the total bill.\n",
    "This corresponds with my finding in the first plot that a tip usually represents 15% of the total bill, therefore the tip value will increase at a similar rate to the total bill. \n",
    "Regression is a key concept in data analysis. In this plot, the inclusion of a regression line, enables better understanding of the data and whether there may be a linear relationship between them.\n",
    "The regression line on the bivariate part of the plot indicates that there is a normal linear regression in this case. \n",
    "The regression line on the marginal areas shows distribution instead and both can be classified as having normal distribution as indicated by the customary bell-shaped curve."
   ]
  },
  {
   "cell_type": "code",
   "execution_count": null,
   "metadata": {},
   "outputs": [],
   "source": [
    "#https://www.kaggle.com/ranjeetjain3/different-types-of-charts\n",
    "sns.jointplot(x = 'total_bill', y = 'tip', data = tips ,kind = 'kde')\n",
    "#another way of visualization. This graph shows that darker the region more number of tips are given at that region"
   ]
  },
  {
   "cell_type": "markdown",
   "metadata": {},
   "source": [
    "**Comment:**\n",
    "Jointplots can also be used to display Kernel Density Function (selected by using kind = 'kde') which plots the density of observations on one axis with height along the other axis.\n",
    "Similar to the hex representation density is indicated by a darker colour."
   ]
  },
  {
   "cell_type": "markdown",
   "metadata": {},
   "source": [
    "**Summary of Section 2 - Is there a relationship between the total bill and tip amount?**"
   ]
  },
  {
   "cell_type": "markdown",
   "metadata": {},
   "source": [
    "In this section I explored the relationship between total bill and tip amount while also going into detail about Linear Regression - a key concept in Data Analysis using plots.\n",
    "The relationship was proven through the following\n",
    "*\n",
    "*\n",
    "*\n",
    "I referenced websites created by XXYYZZ who have studied the dataset and arrived at similar conclusions to me.\n"
   ]
  },
  {
   "cell_type": "markdown",
   "metadata": {},
   "source": []
  },
  {
   "cell_type": "code",
   "execution_count": null,
   "metadata": {},
   "outputs": [],
   "source": []
  },
  {
   "cell_type": "code",
   "execution_count": null,
   "metadata": {},
   "outputs": [],
   "source": []
  },
  {
   "cell_type": "code",
   "execution_count": null,
   "metadata": {},
   "outputs": [],
   "source": []
  },
  {
   "cell_type": "markdown",
   "metadata": {},
   "source": [
    "# 3. Using the same notebook, analyse the relationship between the variables within the dataset. You are free to interpret this as you wish — for example, you may analyse all pairs of variables, or select a subset and analyse those.\n"
   ]
  },
  {
   "cell_type": "code",
   "execution_count": null,
   "metadata": {},
   "outputs": [],
   "source": [
    "#Plot the relation graph between total bill and tip\n",
    "#code verbatim from https://amitkushwaha.co.in/data-visualization-part-1.html\n",
    "#sns.relplot('total_bill', 'tip', data=tips, kind='line')\n",
    "sns.relplot('day', 'tip', data=tips, kind='line')"
   ]
  },
  {
   "cell_type": "code",
   "execution_count": null,
   "metadata": {},
   "outputs": [],
   "source": [
    "**GENDER** see https://dfrieds.com/data-analysis/groupby-python-pandas\n",
    "    that bloke thinks male means server was male.\n",
    "    How can I prove otherwise...using data?\n",
    "    then I can question some of his findings."
   ]
  },
  {
   "cell_type": "code",
   "execution_count": null,
   "metadata": {},
   "outputs": [],
   "source": [
    "   https://seaborn.pydata.org/examples/grouped_boxplot.html\n",
    "        #verbatim from https://www.kaggle.com/ranjeetjain3/different-types-of-charts\n",
    "\n",
    "#plt.show\n",
    "#sns.boxplot(x = 'day', y= 'total_bill', data = tips)"
   ]
  },
  {
   "cell_type": "markdown",
   "metadata": {},
   "source": [
    "**Comment:**\n",
    "A box plot  shows the distribution of quantitative data in a way that facilitates comparisons \n",
    "between variables or across levels of a categorical variable. The box shows the quartiles of the dataset while the \n",
    "whiskers extend to show the rest of the distribution, except for points that are determined to be “outliers” using a method \n",
    "that is a function of the inter-quartile range. \n",
    "FROMMYGITHUB\n",
    "Box plots (or box-and-whisker plot)get the name from the box in the middle of the diagram and are a way to display numerical data via their quartiles. In the figure that is rendered:\n",
    "\n",
    "the minimum is represented by the lowermost line (a \"whisker\")\n",
    "the maximum value is the uppermost line (a \"whisker\")\n",
    "the lowermost end of each box is quartile 1, the uppermost represents quartile 3\n",
    "the second quartile (the median) is the line inside the box.\n",
    "the circles that appear on the plot for \"sepal width in cm\" indicate data that is outside the median, unusual recordings compared to the majority of the data\n",
    "a compact box indicates less variation in the values, as shown in the box plot directly below relating to iris sepals while the petal length can vary from approx 1,5 cm to 5 cm. I have written scripts that display univariate (single variable) and multivariate (two or more variables) versions of boxplots"
   ]
  },
  {
   "cell_type": "markdown",
   "metadata": {},
   "source": [
    "# Conclusion\n",
    "\n",
    "***"
   ]
  },
  {
   "cell_type": "markdown",
   "metadata": {},
   "source": [
    "### _Seaborn_\n",
    "In order to best utilise the functionality of seaborn, the dataset should be in \"long form\" or \"tidy\" format:\n",
    "Each variable is a column\n",
    "Each observation is a row\n",
    "Therefore an effort should be made to collect and arrange the data this way. \n",
    "\n",
    "### _Seaborn V pandas_\n",
    "  \n",
    "\n"
   ]
  },
  {
   "cell_type": "code",
   "execution_count": null,
   "metadata": {},
   "outputs": [],
   "source": [
    "https://seaborn.pydata.org/examples/faceted_histogram.html\n",
    " \n",
    "        https://seaborn.pydata.org/examples/grouped_violinplots.html\n",
    "            https://seaborn.pydata.org/examples/regression_marginals.html"
   ]
  },
  {
   "cell_type": "code",
   "execution_count": null,
   "metadata": {},
   "outputs": [],
   "source": [
    "Summary\n",
    "In this notebook I\n",
    "1. bla\n",
    "2.bla\n",
    "3.bla\n",
    "4. bla\n"
   ]
  }
 ],
 "metadata": {
  "kernelspec": {
   "display_name": "Python 3",
   "language": "python",
   "name": "python3"
  },
  "language_info": {
   "codemirror_mode": {
    "name": "ipython",
    "version": 3
   },
   "file_extension": ".py",
   "mimetype": "text/x-python",
   "name": "python",
   "nbconvert_exporter": "python",
   "pygments_lexer": "ipython3",
   "version": "3.7.1"
  }
 },
 "nbformat": 4,
 "nbformat_minor": 2
}
